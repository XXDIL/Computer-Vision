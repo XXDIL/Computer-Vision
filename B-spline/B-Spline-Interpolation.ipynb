{
 "cells": [
  {
   "cell_type": "markdown",
   "metadata": {},
   "source": [
    "# Assignment 2 - B-Spline Interpolation\n",
    "\n",
    "## By : Mohammed Aadil - Roll : IIT2018179\n",
    "\n",
    "------\n",
    "\n",
    "### importing the required libraries"
   ]
  },
  {
   "cell_type": "code",
   "execution_count": 1,
   "metadata": {},
   "outputs": [],
   "source": [
    "import numpy as np\n",
    "import matplotlib.pyplot as plt"
   ]
  },
  {
   "cell_type": "markdown",
   "metadata": {},
   "source": [
    "### Utility functions"
   ]
  },
  {
   "cell_type": "code",
   "execution_count": 2,
   "metadata": {},
   "outputs": [],
   "source": [
    "def B(i, d, t):\n",
    "    if(d == 0):\n",
    "        if(i <= t <= i+1):\n",
    "            return 1\n",
    "        return 0\n",
    "    \n",
    "    return ((t-i) * B(i, d-1, t) + (i+d+1 - t) * B(i+1, d-1, t)) / d\n",
    "\n",
    "\n",
    "def c(f, d, t):\n",
    "    '''\n",
    "    params\n",
    "        f : an array containing the original 1-D image\n",
    "        d : int, degree of the spline function\n",
    "        t : int/float, point under processing\n",
    "    \n",
    "    return\n",
    "        c_val : value for the given t\n",
    "    '''\n",
    "    if t == (t//1):\n",
    "        return f[int(t)]\n",
    "    \n",
    "    n = len(f)\n",
    "    B_val = np.zeros(n)\n",
    "    \n",
    "    # filling the B i,d (t) array for all i.\n",
    "    for i in range(n):\n",
    "        B_val[i] = B(i, d, t)\n",
    "            \n",
    "    c_val = np.sum(np.multiply(B_val, f))\n",
    "        \n",
    "    return c_val\n",
    "\n",
    "def plot_images(f, new_f):\n",
    "\n",
    "    plt.figure(figsize=(15,2))\n",
    "\n",
    "    plt.subplot(2,1,1)\n",
    "    plt.imshow(np.array([f]), cmap = 'gray')\n",
    "    plt.xticks(range(0, 20))\n",
    "\n",
    "    plt.subplot(2,1,2)\n",
    "    plt.imshow(np.array([new_f]), cmap = 'gray')\n",
    "    plt.xticks(range(0, 20))\n",
    "\n",
    "    plt.tight_layout(2)\n",
    "\n",
    "    plt.show()"
   ]
  },
  {
   "cell_type": "markdown",
   "metadata": {},
   "source": [
    "### Initializing the values"
   ]
  },
  {
   "cell_type": "code",
   "execution_count": 3,
   "metadata": {},
   "outputs": [],
   "source": [
    "f = np.array([10, 20, 30, 40, 50, 60, 70, 80, 90, 100])\n",
    "n = len(f)"
   ]
  },
  {
   "cell_type": "markdown",
   "metadata": {},
   "source": [
    "### Degree 0 B-Spline "
   ]
  },
  {
   "cell_type": "code",
   "execution_count": 4,
   "metadata": {},
   "outputs": [
    {
     "data": {
      "image/png": "[encoded data removed]",
      "text/plain": [
       "<Figure size 1080x144 with 2 Axes>"
      ]
     },
     "metadata": {
      "needs_background": "light"
     },
     "output_type": "display_data"
    },
    {
     "name": "stdout",
     "output_type": "stream",
     "text": [
      "[ 10.  10.  20.  20.  30.  30.  40.  40.  50.  50.  60.  60.  70.  70.\n",
      "  80.  80.  90.  90. 100. 100.]\n"
     ]
    }
   ],
   "source": [
    "new_f = np.zeros(2*n)\n",
    "for i,j in enumerate(new_f):\n",
    "    new_f[i] = c(f, 0, i/2)\n",
    "    \n",
    "\n",
    "plot_images(f, new_f)\n",
    "\n",
    "print(new_f)"
   ]
  },
  {
   "cell_type": "markdown",
   "metadata": {},
   "source": [
    "### Degree 1 B-Spline "
   ]
  },
  {
   "cell_type": "code",
   "execution_count": 5,
   "metadata": {},
   "outputs": [
    {
     "data": {
      "image/png": "[encoded data removed]",
      "text/plain": [
       "<Figure size 1080x144 with 2 Axes>"
      ]
     },
     "metadata": {
      "needs_background": "light"
     },
     "output_type": "display_data"
    },
    {
     "data": {
      "text/plain": [
       "array([ 10.,   5.,  20.,  15.,  30.,  25.,  40.,  35.,  50.,  45.,  60.,\n",
       "        55.,  70.,  65.,  80.,  75.,  90.,  85., 100.,  95.])"
      ]
     },
     "execution_count": 5,
     "metadata": {},
     "output_type": "execute_result"
    }
   ],
   "source": [
    "new_f = np.zeros(2*n)\n",
    "for i,j in enumerate(new_f):\n",
    "    new_f[i] = c(f, 1, i/2)\n",
    "    \n",
    "plot_images(f, new_f)\n",
    "    \n",
    "new_f"
   ]
  },
  {
   "cell_type": "markdown",
   "metadata": {},
   "source": [
    "### Degree 3 B-Spline "
   ]
  },
  {
   "cell_type": "code",
   "execution_count": 6,
   "metadata": {},
   "outputs": [
    {
     "data": {
      "image/png": "[encoded data removed]",
      "text/plain": [
       "<Figure size 1080x144 with 2 Axes>"
      ]
     },
     "metadata": {
      "needs_background": "light"
     },
     "output_type": "display_data"
    },
    {
     "data": {
      "text/plain": [
       "array([ 10.        ,   0.20833333,  20.        ,   5.20833333,\n",
       "        30.        ,  15.        ,  40.        ,  25.        ,\n",
       "        50.        ,  35.        ,  60.        ,  45.        ,\n",
       "        70.        ,  55.        ,  80.        ,  65.        ,\n",
       "        90.        ,  75.        , 100.        ,  85.        ])"
      ]
     },
     "execution_count": 6,
     "metadata": {},
     "output_type": "execute_result"
    }
   ],
   "source": [
    "new_f = np.zeros(2*n)\n",
    "for i,j in enumerate(new_f):\n",
    "    new_f[i] = c(f, 3, i/2)\n",
    "    \n",
    "plot_images(f, new_f)\n",
    "    \n",
    "new_f"
   ]
  }
 ],
 "metadata": {
  "kernelspec": {
   "display_name": "Python 3",
   "language": "python",
   "name": "python3"
  },
  "language_info": {
   "codemirror_mode": {
    "name": "ipython",
    "version": 3
   },
   "file_extension": ".py",
   "mimetype": "text/x-python",
   "name": "python",
   "nbconvert_exporter": "python",
   "pygments_lexer": "ipython3",
   "version": "3.8.5"
  }
 },
 "nbformat": 4,
 "nbformat_minor": 4
}
