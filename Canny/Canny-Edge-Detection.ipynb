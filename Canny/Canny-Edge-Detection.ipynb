{
 "cells": [
  {
   "cell_type": "markdown",
   "metadata": {},
   "source": [
    "# Assignment 3 - Canny Edge Detection\n",
    "## Mohammed Aadil - IIT2018179\n",
    "\n",
    "------\n",
    "\n",
    "### 1) [Noise reduction](#Noise-reduction)\n",
    "### 2) [Gradient calculation](#Gradient-calculation)\n",
    "### 3) [Non-maximum suppression](#Non-maximum-suppression)\n",
    "### 4) [Double threshold](#Double-threshold)\n",
    "### 5) [Edge Tracking by Hysteresis](#Edge-Tracking-by-Hysteresis)\n",
    "\n",
    "------\n",
    "\n",
    "### Including the required libraries"
   ]
  },
  {
   "cell_type": "code",
   "execution_count": 1,
   "metadata": {},
   "outputs": [],
   "source": [
    "import cv2\n",
    "import matplotlib.pyplot as plt\n",
    "import numpy as np\n",
    "from scipy import ndimage\n",
    "from scipy.ndimage.filters import convolve"
   ]
  },
  {
   "cell_type": "code",
   "execution_count": 2,
   "metadata": {
    "scrolled": false
   },
   "outputs": [
    {
     "name": "stdout",
     "output_type": "stream",
     "text": [
      "--2021-02-17 15:58:34--  https://c1.wallpaperflare.com/preview/940/669/86/dove-pigeon-bird-animal.jpg\n",
      "Resolving c1.wallpaperflare.com (c1.wallpaperflare.com)... 2606:4700:3035::ac43:a987, 2606:4700:3034::6815:2ef5, 172.67.169.135, ...\n",
      "Connecting to c1.wallpaperflare.com (c1.wallpaperflare.com)|2606:4700:3035::ac43:a987|:443... connected.\n",
      "HTTP request sent, awaiting response... 200 OK\n",
      "Length: 54433 (53K) [image/jpeg]\n",
      "Saving to: ‘dove-pigeon-bird-animal.jpg.1’\n",
      "\n",
      "dove-pigeon-bird-an 100%[===================>]  53.16K  84.5KB/s    in 0.6s    \n",
      "\n",
      "2021-02-17 15:58:37 (84.5 KB/s) - ‘dove-pigeon-bird-animal.jpg.1’ saved [54433/54433]\n",
      "\n"
     ]
    }
   ],
   "source": [
    "!wget \"https://c1.wallpaperflare.com/preview/940/669/86/dove-pigeon-bird-animal.jpg\""
   ]
  },
  {
   "cell_type": "code",
   "execution_count": 2,
   "metadata": {
    "scrolled": true
   },
   "outputs": [],
   "source": [
    "img = np.array([[50, 50, 50, 50, 50],\n",
    "                [50, 50, 50, 100, 100],\n",
    "                [50, 100, 100, 100, 100],\n",
    "                [100, 100, 100, 100, 100],\n",
    "                [100, 100, 100, 100, 100]], dtype=np.uint8)"
   ]
  },
  {
   "cell_type": "code",
   "execution_count": 3,
   "metadata": {},
   "outputs": [],
   "source": [
    "def plot_images(img1, img2):\n",
    "    plt.figure(figsize=(12,12))\n",
    "\n",
    "    plt.subplot(1,2,1)\n",
    "    plt.imshow(img1, cmap='gray')\n",
    "\n",
    "    plt.subplot(1,2,2)\n",
    "    plt.imshow(img2, cmap='gray')\n",
    "\n",
    "    plt.show()"
   ]
  },
  {
   "cell_type": "markdown",
   "metadata": {},
   "source": [
    "### Noise reduction"
   ]
  },
  {
   "cell_type": "code",
   "execution_count": 45,
   "metadata": {},
   "outputs": [],
   "source": [
    "def gaussian_kernel(size, sigma=1):\n",
    "    '''\n",
    "        params:\n",
    "            size : (int) size of the structuring element\n",
    "            sigma : (float) \n",
    "            \n",
    "        return:\n",
    "            g : (2D matrix) gaussian kernel\n",
    "    '''\n",
    "    size = int(size) // 2\n",
    "    x, y = np.mgrid[-size:size+1, -size:size+1]\n",
    "    \n",
    "    normal = 1 / (2.0 * np.pi * (sigma**2)) \n",
    "    \n",
    "    g =  np.exp(-((x**2 + y**2) / (2.0*(sigma**2)))) * normal\n",
    "    \n",
    "    return g"
   ]
  },
  {
   "cell_type": "code",
   "execution_count": 58,
   "metadata": {
    "scrolled": false
   },
   "outputs": [
    {
     "data": {
      "image/png": "[encoded data removed]",
      "text/plain": [
       "<Figure size 864x864 with 2 Axes>"
      ]
     },
     "metadata": {
      "needs_background": "light"
     },
     "output_type": "display_data"
    }
   ],
   "source": [
    "gausian_filter = gaussian_kernel(3, 1)\n",
    "gaussian_blured = convolve(img, gausian_filter)\n",
    "\n",
    "plot_images(img, gaussian_blured)"
   ]
  },
  {
   "cell_type": "markdown",
   "metadata": {},
   "source": [
    "### Gradient calculation"
   ]
  },
  {
   "cell_type": "code",
   "execution_count": 36,
   "metadata": {},
   "outputs": [],
   "source": [
    "def sobel_filters(img):\n",
    "    Kx = np.array([[-1, 0, 1], [-1, 0, 1], [-1, 0, 1]], np.float32)\n",
    "    Ky = np.array([[1, 1, 1], [0, 0, 0], [-1, -1, -1]], np.float32)\n",
    "    \n",
    "    Ix = convolve(img, Kx)\n",
    "    Iy = convolve(img, Ky)\n",
    "    \n",
    "    print(Ix)\n",
    "    print(Iy)\n",
    "    \n",
    "    G = np.hypot(Ix, Iy)\n",
    "    G = G / G.max() * 255\n",
    "    theta = np.arctan2(Iy, Ix)\n",
    "    \n",
    "    print(G)\n",
    "    print(theta)\n",
    "        \n",
    "    return (G, theta)"
   ]
  },
  {
   "cell_type": "code",
   "execution_count": 37,
   "metadata": {},
   "outputs": [
    {
     "name": "stdout",
     "output_type": "stream",
     "text": [
      "[[  0   0 206 206   0]\n",
      " [206 206 206 206   0]\n",
      " [206 206 206 206   0]\n",
      " [206 206   0   0   0]\n",
      " [  0   0   0   0   0]]\n",
      "[[  0   0  50 100 150]\n",
      " [ 50 100 150 150 150]\n",
      " [150 150 100  50   0]\n",
      " [100  50   0   0   0]\n",
      " [  0   0   0   0   0]]\n",
      "[[  0.    0.  212.  229.1 150. ]\n",
      " [212.  229.1 255.  255.  150. ]\n",
      " [255.  255.  229.1 212.    0. ]\n",
      " [229.1 212.    0.    0.    0. ]\n",
      " [  0.    0.    0.    0.    0. ]]\n",
      "[[0.     0.     0.2382 0.452  1.57  ]\n",
      " [0.2382 0.452  0.6294 0.6294 1.57  ]\n",
      " [0.6294 0.6294 0.452  0.2382 0.    ]\n",
      " [0.452  0.2382 0.     0.     0.    ]\n",
      " [0.     0.     0.     0.     0.    ]]\n"
     ]
    },
    {
     "data": {
      "image/png": "[encoded data removed]",
      "text/plain": [
       "<Figure size 864x864 with 2 Axes>"
      ]
     },
     "metadata": {
      "needs_background": "light"
     },
     "output_type": "display_data"
    }
   ],
   "source": [
    "sobel_img, sobel_theta = sobel_filters(img)\n",
    "\n",
    "plot_images(img, sobel_img.astype(np.uint8))"
   ]
  },
  {
   "cell_type": "code",
   "execution_count": 38,
   "metadata": {},
   "outputs": [],
   "source": [
    "def non_max_suppression(img, D):\n",
    "    M, N = img.shape\n",
    "    Z = np.zeros((M,N), dtype=np.int32)\n",
    "    angle = D * 180. / np.pi    \n",
    "    angle[angle < 0] += 180\n",
    "    \n",
    "    print(angle)\n",
    "    \n",
    "    for i in range(1,M-1):\n",
    "        for j in range(1,N-1):\n",
    "            try:\n",
    "                q = 255\n",
    "                r = 255\n",
    "                \n",
    "                #angle 0\n",
    "                if (0 <= angle[i,j] < 22.5) or (157.5 <= angle[i,j] <= 180):\n",
    "                    q = img[i, j+1]\n",
    "                    r = img[i, j-1]\n",
    "                #angle 45\n",
    "                elif (22.5 <= angle[i,j] < 67.5):\n",
    "                    q = img[i+1, j-1]\n",
    "                    r = img[i-1, j+1]\n",
    "                #angle 90\n",
    "                elif (67.5 <= angle[i,j] < 112.5):\n",
    "                    q = img[i+1, j]\n",
    "                    r = img[i-1, j]\n",
    "                #angle 135\n",
    "                elif (112.5 <= angle[i,j] < 157.5):\n",
    "                    q = img[i-1, j-1]\n",
    "                    r = img[i+1, j+1]\n",
    "\n",
    "                if (img[i,j] >= q) and (img[i,j] >= r):\n",
    "                    Z[i,j] = img[i,j]\n",
    "                else:\n",
    "                    Z[i,j] = 0\n",
    "\n",
    "            except IndexError as e:\n",
    "                pass\n",
    "    \n",
    "    return Z"
   ]
  },
  {
   "cell_type": "code",
   "execution_count": 62,
   "metadata": {},
   "outputs": [
    {
     "name": "stdout",
     "output_type": "stream",
     "text": [
      "[[ 0.    0.   13.65 25.89 90.  ]\n",
      " [13.65 25.89 36.1  36.1  90.  ]\n",
      " [36.1  36.1  25.89 13.65  0.  ]\n",
      " [25.89 13.65  0.    0.    0.  ]\n",
      " [ 0.    0.    0.    0.    0.  ]]\n"
     ]
    },
    {
     "data": {
      "image/png": "[encoded data removed]",
      "text/plain": [
       "<Figure size 864x864 with 2 Axes>"
      ]
     },
     "metadata": {
      "needs_background": "light"
     },
     "output_type": "display_data"
    }
   ],
   "source": [
    "# padded_sobel_img = cv2.copyMakeBorder(sobel_img.astype(np.uint8),1,1,1,1,cv2.BORDER_REFLECT)\n",
    "\n",
    "nonMaxImg = non_max_suppression(sobel_img, sobel_theta)\n",
    "\n",
    "plot_images(sobel_img.astype(np.uint8), nonMaxImg)"
   ]
  },
  {
   "cell_type": "code",
   "execution_count": 81,
   "metadata": {},
   "outputs": [],
   "source": [
    "def threshold(img, lowThresholdRatio=0.3, highThresholdRatio=0.7):\n",
    "    \n",
    "    highThreshold = img.max() * highThresholdRatio;\n",
    "    lowThreshold = highThreshold * lowThresholdRatio;\n",
    "    \n",
    "    print(highThreshold, lowThreshold)\n",
    "    \n",
    "    M, N = img.shape\n",
    "    res = np.zeros((M,N), dtype=np.int32)\n",
    "    \n",
    "    weak = np.int32(25)\n",
    "    strong = np.int32(255)\n",
    "    \n",
    "    strong_i, strong_j = np.where(img >= highThreshold)\n",
    "    zeros_i, zeros_j = np.where(img < lowThreshold)\n",
    "    \n",
    "    weak_i, weak_j = np.where((img <= highThreshold) & (img >= lowThreshold))\n",
    "    \n",
    "    res[strong_i, strong_j] = strong\n",
    "    res[weak_i, weak_j] = weak\n",
    "    \n",
    "    return (res, weak, strong)"
   ]
  },
  {
   "cell_type": "code",
   "execution_count": 82,
   "metadata": {},
   "outputs": [
    {
     "name": "stdout",
     "output_type": "stream",
     "text": [
      "178.5 53.55\n"
     ]
    },
    {
     "data": {
      "image/png": "[encoded data removed]",
      "text/plain": [
       "<Figure size 864x864 with 2 Axes>"
      ]
     },
     "metadata": {
      "needs_background": "light"
     },
     "output_type": "display_data"
    },
    {
     "data": {
      "text/plain": [
       "(array([[  0,   0,   0,   0,   0],\n",
       "        [  0,   0, 255, 255,   0],\n",
       "        [255, 255,   0,   0,   0],\n",
       "        [  0,   0,   0,   0,   0],\n",
       "        [  0,   0,   0,   0,   0]], dtype=int32),\n",
       " 25,\n",
       " 255)"
      ]
     },
     "execution_count": 82,
     "metadata": {},
     "output_type": "execute_result"
    }
   ],
   "source": [
    "thresholded_img = threshold(nonMaxImg)\n",
    "\n",
    "\n",
    "plot_images(nonMaxImg, thresholded_img[0])\n",
    "\n",
    "thresholded_img"
   ]
  },
  {
   "cell_type": "code",
   "execution_count": 83,
   "metadata": {},
   "outputs": [],
   "source": [
    "def hysteresis(img, weak, strong=255):\n",
    "    M, N = img.shape  \n",
    "    for i in range(0, M):\n",
    "        for j in range(0, N):\n",
    "            if (img[i,j] == weak):\n",
    "                try:\n",
    "                    if ((img[i+1, j-1] == strong) or (img[i+1, j] == strong) or (img[i+1, j+1] == strong)\n",
    "                        or (img[i, j-1] == strong) or (img[i, j+1] == strong)\n",
    "                        or (img[i-1, j-1] == strong) or (img[i-1, j] == strong) or (img[i-1, j+1] == strong)):\n",
    "                        img[i, j] = strong\n",
    "                    else:\n",
    "                        img[i, j] = 0\n",
    "                except IndexError as e:\n",
    "                    pass\n",
    "    return img"
   ]
  },
  {
   "cell_type": "code",
   "execution_count": 84,
   "metadata": {},
   "outputs": [
    {
     "data": {
      "image/png": "[encoded data removed]",
      "text/plain": [
       "<Figure size 864x864 with 2 Axes>"
      ]
     },
     "metadata": {
      "needs_background": "light"
     },
     "output_type": "display_data"
    },
    {
     "data": {
      "text/plain": [
       "array([[  0,   0,   0,   0,   0],\n",
       "       [  0,   0, 255, 255,   0],\n",
       "       [255, 255,   0,   0,   0],\n",
       "       [  0,   0,   0,   0,   0],\n",
       "       [  0,   0,   0,   0,   0]], dtype=int32)"
      ]
     },
     "execution_count": 84,
     "metadata": {},
     "output_type": "execute_result"
    }
   ],
   "source": [
    "final_img = hysteresis(thresholded_img[0], 25)\n",
    "\n",
    "plot_images(thresholded_img[0], final_img)\n",
    "\n",
    "final_img"
   ]
  },
  {
   "cell_type": "code",
   "execution_count": 211,
   "metadata": {},
   "outputs": [
    {
     "data": {
      "image/png": "[encoded data removed]",
      "text/plain": [
       "<Figure size 864x864 with 2 Axes>"
      ]
     },
     "metadata": {
      "needs_background": "light"
     },
     "output_type": "display_data"
    }
   ],
   "source": [
    "edges = cv2.Canny(img,50,100)\n",
    "\n",
    "plot_images(img, edges)"
   ]
  },
  {
   "cell_type": "code",
   "execution_count": 212,
   "metadata": {},
   "outputs": [
    {
     "data": {
      "text/plain": [
       "array([[  0,   0,   0,   0, 255],\n",
       "       [  0,   0, 255, 255,   0],\n",
       "       [255, 255,   0,   0,   0],\n",
       "       [  0,   0,   0,   0,   0],\n",
       "       [  0,   0,   0,   0,   0]], dtype=uint8)"
      ]
     },
     "execution_count": 212,
     "metadata": {},
     "output_type": "execute_result"
    }
   ],
   "source": [
    "edges"
   ]
  },
  {
   "cell_type": "code",
   "execution_count": null,
   "metadata": {},
   "outputs": [],
   "source": []
  },
  {
   "cell_type": "code",
   "execution_count": null,
   "metadata": {},
   "outputs": [],
   "source": []
  },
  {
   "cell_type": "code",
   "execution_count": null,
   "metadata": {},
   "outputs": [],
   "source": []
  },
  {
   "cell_type": "code",
   "execution_count": null,
   "metadata": {},
   "outputs": [],
   "source": []
  },
  {
   "cell_type": "code",
   "execution_count": null,
   "metadata": {},
   "outputs": [],
   "source": []
  },
  {
   "cell_type": "code",
   "execution_count": null,
   "metadata": {},
   "outputs": [],
   "source": []
  },
  {
   "cell_type": "code",
   "execution_count": null,
   "metadata": {},
   "outputs": [],
   "source": []
  }
 ],
 "metadata": {
  "kernelspec": {
   "display_name": "Python 3",
   "language": "python",
   "name": "python3"
  },
  "language_info": {
   "codemirror_mode": {
    "name": "ipython",
    "version": 3
   },
   "file_extension": ".py",
   "mimetype": "text/x-python",
   "name": "python",
   "nbconvert_exporter": "python",
   "pygments_lexer": "ipython3",
   "version": "3.8.5"
  }
 },
 "nbformat": 4,
 "nbformat_minor": 4
}
