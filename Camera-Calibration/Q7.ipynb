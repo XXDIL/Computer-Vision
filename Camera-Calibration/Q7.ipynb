{
 "cells": [
  {
   "cell_type": "markdown",
   "id": "compound-advertiser",
   "metadata": {},
   "source": [
    "# Camera Calibration Assignment Q7\n",
    "\n",
    "------\n",
    "\n",
    "### Importing the required libs"
   ]
  },
  {
   "cell_type": "code",
   "execution_count": 1,
   "id": "fifth-hostel",
   "metadata": {},
   "outputs": [],
   "source": [
    "import numpy as np\n",
    "np.set_printoptions(suppress=True)"
   ]
  },
  {
   "cell_type": "markdown",
   "id": "expanded-sphere",
   "metadata": {},
   "source": [
    "### Utility Functions"
   ]
  },
  {
   "cell_type": "code",
   "execution_count": 2,
   "id": "structured-league",
   "metadata": {},
   "outputs": [],
   "source": [
    "def a_T(xi, Xi):\n",
    "    '''\n",
    "        Description : Calculates the a_xi.T and a_yi.T vectors\n",
    "        \n",
    "        params : xi - Image Coordinate (2,1)\n",
    "                 Xi - World Coordinate (3,1)\n",
    "        \n",
    "        return : a_xi.T - (1, 12)\n",
    "                 a_yi.T - (1, 12)\n",
    "    '''\n",
    "    xi_a_T = np.array([-Xi[0], -Xi[1], -Xi[2], -1, 0, 0, 0, 0, xi[0]*Xi[0], xi[0]*Xi[1], xi[0]*Xi[2], xi[0]])\n",
    "    yi_a_T = np.array([0, 0, 0, 0, -Xi[0], -Xi[1], -Xi[2], -1, xi[1]*Xi[0], xi[1]*Xi[1], xi[1]*Xi[2], xi[1]])\n",
    "    \n",
    "    return xi_a_T, yi_a_T\n",
    "\n",
    "\n",
    "def get_M(x, X):\n",
    "    '''\n",
    "        Description : Create the M matrix (ie xi_a_T & yi_a_T stacked, for each points)\n",
    "        \n",
    "        params : x - matrix contaiing all the image coordinates (I, 2)\n",
    "                 X - matrix contaiing all the world coordinates (I, 3)\n",
    "        \n",
    "        return : M matrix (2I x 12) where I is the total number of points\n",
    "    '''\n",
    "    \n",
    "    I = x.shape[0]\n",
    "    M = np.zeros((2*I, 12))\n",
    "    \n",
    "    for i in range(I):\n",
    "        xi_a_T, yi_a_T = a_T(x[i], X[i])\n",
    "        M[2*i] = xi_a_T\n",
    "        M[2*i+1] = yi_a_T\n",
    "    \n",
    "    return M"
   ]
  },
  {
   "cell_type": "markdown",
   "id": "thermal-terry",
   "metadata": {},
   "source": [
    "### Initializing the Coordinates"
   ]
  },
  {
   "cell_type": "code",
   "execution_count": 3,
   "id": "imposed-miami",
   "metadata": {},
   "outputs": [],
   "source": [
    "# World coordinates\n",
    "X = np.array([[9,9,9],\n",
    "              [9,7,9],\n",
    "              [7,9,9],\n",
    "              [7,7,9],\n",
    "              [9,9,11],\n",
    "              [9,7,11]])\n",
    "\n",
    "# Image coordinates\n",
    "x = np.array([[4,4],\n",
    "              [4,2],\n",
    "              [2,4],\n",
    "              [2,2],\n",
    "              [2,2],\n",
    "              [2,1]])"
   ]
  },
  {
   "cell_type": "markdown",
   "id": "unusual-object",
   "metadata": {},
   "source": [
    "### Creating M matrix"
   ]
  },
  {
   "cell_type": "code",
   "execution_count": 4,
   "id": "applied-heater",
   "metadata": {},
   "outputs": [
    {
     "name": "stdout",
     "output_type": "stream",
     "text": [
      "[[ -9.  -9.  -9.  -1.   0.   0.   0.   0.  36.  36.  36.   4.]\n",
      " [  0.   0.   0.   0.  -9.  -9.  -9.  -1.  36.  36.  36.   4.]\n",
      " [ -9.  -7.  -9.  -1.   0.   0.   0.   0.  36.  28.  36.   4.]\n",
      " [  0.   0.   0.   0.  -9.  -7.  -9.  -1.  18.  14.  18.   2.]\n",
      " [ -7.  -9.  -9.  -1.   0.   0.   0.   0.  14.  18.  18.   2.]\n",
      " [  0.   0.   0.   0.  -7.  -9.  -9.  -1.  28.  36.  36.   4.]\n",
      " [ -7.  -7.  -9.  -1.   0.   0.   0.   0.  14.  14.  18.   2.]\n",
      " [  0.   0.   0.   0.  -7.  -7.  -9.  -1.  14.  14.  18.   2.]\n",
      " [ -9.  -9. -11.  -1.   0.   0.   0.   0.  18.  18.  22.   2.]\n",
      " [  0.   0.   0.   0.  -9.  -9. -11.  -1.  18.  18.  22.   2.]\n",
      " [ -9.  -7. -11.  -1.   0.   0.   0.   0.  18.  14.  22.   2.]\n",
      " [  0.   0.   0.   0.  -9.  -7. -11.  -1.   9.   7.  11.   1.]] (12, 12)\n"
     ]
    }
   ],
   "source": [
    "M = get_M(x, X)\n",
    "\n",
    "print(M, M.shape)"
   ]
  },
  {
   "cell_type": "markdown",
   "id": "complex-concord",
   "metadata": {},
   "source": [
    "### Theory\n",
    "\n",
    "```math\n",
    "\n",
    "Now that we have M, we know that \n",
    "\n",
    "=> M . p should be 0 \n",
    "=> M * p = 0 \n",
    "\n",
    "This can be solved using SVD(Singular Value Decomposition)\n",
    "\n",
    "=> M = U * S * V.T\n",
    "\n",
    "And as all these matrices are arranged in a decreasing order of importance(contribution) \n",
    "to minimize the value of M . p and equate it to 0 we need to choose the least contributing \n",
    "value of V.T (ie the last row of V.T)\n",
    "\n",
    "```\n",
    "\n",
    "### Taking the SVD of M"
   ]
  },
  {
   "cell_type": "code",
   "execution_count": 5,
   "id": "ready-pitch",
   "metadata": {},
   "outputs": [
    {
     "name": "stdout",
     "output_type": "stream",
     "text": [
      "(12, 12) (12,) (12, 12)\n"
     ]
    }
   ],
   "source": [
    "U, S, VT = np.linalg.svd(M)\n",
    "\n",
    "print(U.shape, S.shape, VT.shape)"
   ]
  },
  {
   "cell_type": "markdown",
   "id": "identical-gallery",
   "metadata": {},
   "source": [
    "### Verifying the value of p"
   ]
  },
  {
   "cell_type": "code",
   "execution_count": 6,
   "id": "silent-karen",
   "metadata": {},
   "outputs": [
    {
     "name": "stdout",
     "output_type": "stream",
     "text": [
      "p =\n",
      " [ 0.12451456 -0.          0.         -0.62257281 -0.          0.12451456\n",
      "  0.         -0.62257281 -0.         -0.          0.06225728 -0.43580096] \n",
      "\n",
      "\n",
      "M . p =\n",
      " [ 0.  0.  0. -0. -0.  0. -0. -0. -0. -0. -0. -0.]\n"
     ]
    }
   ],
   "source": [
    "p = VT[-1]\n",
    "\n",
    "print(\"p =\\n\", p,'\\n\\n')\n",
    "\n",
    "print(\"M . p =\\n\", np.dot(M, p))"
   ]
  },
  {
   "cell_type": "markdown",
   "id": "neutral-chassis",
   "metadata": {},
   "source": [
    "As we can see that ``M . p = 0``"
   ]
  },
  {
   "cell_type": "code",
   "execution_count": 7,
   "id": "settled-portal",
   "metadata": {},
   "outputs": [
    {
     "name": "stdout",
     "output_type": "stream",
     "text": [
      "P =\n",
      " [[ 0.12451456 -0.          0.         -0.62257281]\n",
      " [-0.          0.12451456  0.         -0.62257281]\n",
      " [-0.         -0.          0.06225728 -0.43580096]]\n"
     ]
    }
   ],
   "source": [
    "print(\"P =\\n\", p.reshape((3,4)))"
   ]
  },
  {
   "cell_type": "markdown",
   "id": "regular-coupon",
   "metadata": {},
   "source": [
    "### Verifying the values of x and X using p"
   ]
  },
  {
   "cell_type": "code",
   "execution_count": 8,
   "id": "christian-pathology",
   "metadata": {},
   "outputs": [],
   "source": [
    "P = p.reshape((3,4))\n",
    "X = np.append(X, np.ones((6,1)), axis=1)"
   ]
  },
  {
   "cell_type": "code",
   "execution_count": 9,
   "id": "destroyed-brighton",
   "metadata": {},
   "outputs": [
    {
     "name": "stdout",
     "output_type": "stream",
     "text": [
      "[[4. 4. 2. 2. 2. 2.]\n",
      " [4. 2. 4. 2. 2. 1.]\n",
      " [1. 1. 1. 1. 1. 1.]]\n"
     ]
    }
   ],
   "source": [
    "expected_x = np.dot(P, X.T)\n",
    "\n",
    "print(expected_x/expected_x[-1])"
   ]
  },
  {
   "cell_type": "markdown",
   "id": "apparent-amendment",
   "metadata": {},
   "source": [
    "```\n",
    "\n",
    "As we can see we have retrieved the image coordinates 'x' from P and X\n",
    "\n",
    "```"
   ]
  }
 ],
 "metadata": {
  "kernelspec": {
   "display_name": "Python 3",
   "language": "python",
   "name": "python3"
  },
  "language_info": {
   "codemirror_mode": {
    "name": "ipython",
    "version": 3
   },
   "file_extension": ".py",
   "mimetype": "text/x-python",
   "name": "python",
   "nbconvert_exporter": "python",
   "pygments_lexer": "ipython3",
   "version": "3.8.5"
  }
 },
 "nbformat": 4,
 "nbformat_minor": 5
}
